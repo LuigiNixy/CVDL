{
 "cells": [
  {
   "cell_type": "code",
   "execution_count": 1,
   "metadata": {},
   "outputs": [],
   "source": [
    "from PIL import Image\n",
    "from pillow_lut import load_cube_file\n",
    "import os\n",
    "import random\n",
    "import random\n",
    "from datetime import datetime\n",
    "import numpy as np\n",
    "import cv2\n",
    "random.seed(datetime.now().timestamp())"
   ]
  },
  {
   "cell_type": "code",
   "execution_count": 2,
   "metadata": {},
   "outputs": [],
   "source": [
    "\n",
    "\n",
    "luts = []\n",
    "\n",
    "for lut in os.listdir(\"./LUTS/\"):\n",
    "    luts.append(load_cube_file(os.path.join(\"./LUTS/\", lut)))\n",
    "\n",
    "for images in os.listdir(\"./data/Teal&Orange/origin_jpgs/\"):\n",
    "    lut = luts[1]\n",
    "    img = Image.open(os.path.join(\"./data/Teal&Orange/origin_jpgs/\", images))\n",
    "    im = cv2.imread(os.path.join(\"./data/Teal&Orange/origin_jpgs/\", images))\n",
    "    # print(images)\n",
    "    # print(im.shape)\n",
    "    if im.shape[0] > im.shape[1]:\n",
    "        img_ = img.convert('RGBA').rotate(90, expand=1)\n",
    "        # print(1)\n",
    "        fff = Image.new(\"RGBA\", img_.size, (255,255,255,255))\n",
    "        out = Image.composite(img_, fff, mask=img_)\n",
    "        out.convert(img.mode).save(os.path.join(\"./data/Teal&Orange/origin_jpgs/\", images))\n",
    "        img = Image.open(os.path.join(\"./data/Teal&Orange/origin_jpgs/\", images))\n",
    "    img.filter(lut).save(os.path.join(\"./data/Teal&Orange/new_jpgs/\", images))\n"
   ]
  },
  {
   "cell_type": "code",
   "execution_count": 3,
   "metadata": {},
   "outputs": [],
   "source": [
    "import skimage.transform as trans\n",
    "\n",
    "\n",
    "def train_or_test():\n",
    "    x = random.random()\n",
    "    return 1 if x >= 0.2 else 0\n",
    "\n",
    "\n",
    "def random_crop(img):\n",
    "    h,w = img.shape[0], img.shape[1]\n",
    "    delta_h = (h // 480) * 480\n",
    "    delta_w = (w // 640) * 640\n",
    "    h_st = random.randint(0, h - delta_h)\n",
    "    w_st = random.randint(0,w - delta_w)\n",
    "\n",
    "    crop_img = img[h_st:h_st+delta_h, w_st:w_st + delta_w,:]\n",
    "\n",
    "    return h_st, w_st, delta_h, delta_w, trans.downscale_local_mean(crop_img, (delta_h // 480,delta_w // 640,1))\n",
    "\n",
    "# a = np.zeros((4000,6000,3))\n",
    "# print(trans.downscale_local_mean(a, (a.shape[0] // 480, a.shape[1] // 960,1)).shape)\n",
    "\n"
   ]
  },
  {
   "cell_type": "code",
   "execution_count": 4,
   "metadata": {},
   "outputs": [],
   "source": [
    "train_list = []\n",
    "test_list = []\n",
    "for image in os.listdir(\"./data/Teal&Orange/origin_jpgs/\"):\n",
    "    ori_img_pth = os.path.join(\"./data/Teal&Orange/origin_jpgs/\", image)\n",
    "    new_img_pth = os.path.join(\"./data/Teal&Orange/new_jpgs/\", image)\n",
    "    ori_img = cv2.imread(ori_img_pth)\n",
    "    new_img = cv2.imread(new_img_pth)\n",
    "\n",
    "    # print(ori_img.shape)\n",
    "    # print(new_img.shape)\n",
    "    # if(ori_img.shape[0] == 480):\n",
    "    #     continue\n",
    "    for i in range(1):\n",
    "        h_st, w_st, d_h, d_w, img_ = random_crop(ori_img)\n",
    "        cv2.imwrite(img = img_, filename= ori_img_pth.replace(\".JPG\", \"_\" + str(i) + \".JPG\"))\n",
    "        cv2.imwrite(img = trans.downscale_local_mean(new_img[h_st:h_st+d_h, w_st:w_st + d_w,:], (d_h // 480,d_w // 640,1)), filename= new_img_pth.replace(\".JPG\", \"_\" + str(i) + \".JPG\"))\n",
    "    \n",
    "    if train_or_test() > 0:\n",
    "        for i in range(1):\n",
    "            train_list.append(image.replace(\".JPG\", \"_\" + str(i) + \".JPG\"))\n",
    "    else:\n",
    "        for i in range(1):\n",
    "            test_list.append(image.replace(\".JPG\", \"_\" + str(i) + \".JPG\"))\n",
    "\n",
    "\n",
    " \n"
   ]
  },
  {
   "cell_type": "code",
   "execution_count": 8,
   "metadata": {},
   "outputs": [
    {
     "name": "stdout",
     "output_type": "stream",
     "text": [
      "396\n",
      "103\n"
     ]
    }
   ],
   "source": [
    "print(len(train_list))\n",
    "print(len(test_list))"
   ]
  },
  {
   "cell_type": "code",
   "execution_count": 9,
   "metadata": {},
   "outputs": [],
   "source": [
    "with open(\"./data/Teal&Orange/train_img.txt\", \"w\") as f:\n",
    "    for image in train_list:\n",
    "        f.write(image+'\\n')\n",
    "\n",
    "\n",
    "with open(\"./data/Teal&Orange/test_img.txt\", \"w\") as f:\n",
    "    for image in test_list:\n",
    "        f.write(image+'\\n')"
   ]
  },
  {
   "cell_type": "code",
   "execution_count": 7,
   "metadata": {},
   "outputs": [],
   "source": [
    "import rawpy\n",
    "\n"
   ]
  }
 ],
 "metadata": {
  "kernelspec": {
   "display_name": "CV",
   "language": "python",
   "name": "python3"
  },
  "language_info": {
   "codemirror_mode": {
    "name": "ipython",
    "version": 3
   },
   "file_extension": ".py",
   "mimetype": "text/x-python",
   "name": "python",
   "nbconvert_exporter": "python",
   "pygments_lexer": "ipython3",
   "version": "3.10.10"
  },
  "orig_nbformat": 4
 },
 "nbformat": 4,
 "nbformat_minor": 2
}
